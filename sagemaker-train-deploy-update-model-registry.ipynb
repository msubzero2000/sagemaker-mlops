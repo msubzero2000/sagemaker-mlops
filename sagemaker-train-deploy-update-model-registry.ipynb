{
 "cells": [
  {
   "cell_type": "markdown",
   "metadata": {},
   "source": [
    "## Author: Agustinus Nalwan\n",
    "## Model Training & Model Registry Experiment\n",
    "\n",
    "This experiment demonstrates the following MLOps process using Amazon SageMaker.\n",
    "- Train a model\n",
    "- Register a model into a Model Registry Group\n",
    "- Deploy the model from a Model Registry into an endpoint\n",
    "- Update an existing endpoint with a new model from Model Registry"
   ]
  },
  {
   "cell_type": "code",
   "execution_count": null,
   "metadata": {},
   "outputs": [],
   "source": [
    "import sagemaker\n",
    "sm_session = sagemaker.session.Session()\n",
    "s3_bucket = \"your bucket name here\"\n",
    "s3_folder = f\"s3://{s3_bucket}\"\n",
    "data_path = \"data\"\n",
    "sagemaker_role = \"add your role here\"\n",
    "sagemaker_role_arn = \"add your role arn here\""
   ]
  },
  {
   "cell_type": "code",
   "execution_count": null,
   "metadata": {},
   "outputs": [],
   "source": [
    "import numpy as np\n",
    "import os\n",
    "import tensorflow as tf\n",
    "\n",
    "mnist = tf.keras.datasets.mnist\n",
    "\n",
    "if not os.path.exists(data_path):\n",
    "    os.mkdir(data_path)\n",
    "\n",
    "# Get mnist dataset, split it into train/test and save them into local folder\n",
    "(x_train, y_train), (x_test, y_test) = mnist.load_data()\n",
    "np.save(f\"{data_path}/x_train.dat\", x_train)\n",
    "np.save(f\"{data_path}/y_train.dat\", y_train)\n",
    "\n",
    "np.save(f\"{data_path}/x_test.dat\", x_test)\n",
    "np.save(f\"{data_path}/y_test.dat\", y_test)\n",
    "\n",
    "# Upload them to S3 bucket for SageMaker training\n",
    "import boto3\n",
    "s3_client = boto3.client('s3')\n",
    "s3_client.upload_file(f\"{data_path}/x_train.dat.npy\", s3_bucket, \"dataset/train/x_train.dat.npy\")\n",
    "s3_client.upload_file(f\"{data_path}/y_train.dat.npy\", s3_bucket, \"dataset/train/y_train.dat.npy\")\n",
    "s3_client.upload_file(f\"{data_path}/x_test.dat.npy\", s3_bucket, \"dataset/eval/x_test.dat.npy\")\n",
    "s3_client.upload_file(f\"{data_path}/y_test.dat.npy\", s3_bucket, \"dataset/eval/y_test.dat.npy\")"
   ]
  },
  {
   "cell_type": "code",
   "execution_count": null,
   "metadata": {},
   "outputs": [],
   "source": [
    "Training a new Tensorflow model using SageMaker Python SDK via a custom training script.\n",
    "The training script is a common Tensorflow training script which is minimally retrofitted to SageMaker"
   ]
  },
  {
   "cell_type": "code",
   "execution_count": null,
   "metadata": {},
   "outputs": [],
   "source": [
    "from sagemaker.tensorflow import TensorFlow\n",
    "\n",
    "tf_estimator = TensorFlow(\n",
    "    entry_point=\"tf-train.py\",\n",
    "    role=sagemaker_role,\n",
    "    instance_count=1,\n",
    "    instance_type=\"ml.p2.xlarge\",\n",
    "    framework_version=\"2.2\",\n",
    "    output_path=f\"{s3_folder}/output/\",\n",
    "    py_version=\"py37\")\n",
    "\n",
    "tf_estimator.fit({'train': f'{s3_folder}/dataset/train',\n",
    "                  'eval': f'{s3_folder}/dataset/eval'}, logs=\"Training\")"
   ]
  },
  {
   "cell_type": "markdown",
   "metadata": {},
   "source": [
    "Deploy the model into a new SageMaker endpoint. Which involved:\n",
    "- Creating a SageMaker Model\n",
    "- Creating a SageMaker Model Package (making it avail on AWS SageMaker Model Console)\n",
    "- Creating an Endpoint Configuration\n",
    "- Creating an Endpoint"
   ]
  },
  {
   "cell_type": "code",
   "execution_count": null,
   "metadata": {},
   "outputs": [],
   "source": [
    "# Ideally, you should always register the model first and deploy from there so that all the metrics, training job, etc are \n",
    "# properly recorded. But here we just want to test, so...\n",
    "predictor = tf_estimator.deploy(initial_instance_count=1, instance_type=\"ml.c5.xlarge\")\n",
    "# Record this endpoint name to be used at later section\n",
    "first_end_point_name = predictor.endpoint_name"
   ]
  },
  {
   "cell_type": "markdown",
   "metadata": {},
   "source": [
    "Testing the endpoint using a test data"
   ]
  },
  {
   "cell_type": "code",
   "execution_count": null,
   "metadata": {},
   "outputs": [],
   "source": [
    "import numpy as np\n",
    "\n",
    "!aws s3 cp s3://sagemaker-experimentation/dataset/eval data/ --recursive\n",
    "    \n",
    "x_test = np.load(f\"{data_path}/x_test.dat.npy\")\n",
    "y_test = np.load(f\"{data_path}/y_test.dat.npy\")\n",
    "\n",
    "input = {'instances': [x_test[0].tolist()]}\n",
    "result = predictor.predict(input)\n",
    "print(result)"
   ]
  },
  {
   "cell_type": "markdown",
   "metadata": {},
   "source": [
    "Next we are going to create a model group and register this model as one model version under that group.\n",
    "You can create the group via:\n",
    "1. GUI - SageMaker Resources side tab - Model Registry\n",
    "2. Code - Using boto3 to create SageMaker model group. Python SDK is not supporting this yet\n",
    "Tutorial -> https://docs.aws.amazon.com/sagemaker/latest/dg/model-registry-model-group.html\n",
    "Here we will use boto3 to create the group"
   ]
  },
  {
   "cell_type": "code",
   "execution_count": null,
   "metadata": {},
   "outputs": [],
   "source": [
    "import time\n",
    "import boto3\n",
    "\n",
    "sm_client = boto3.client('sagemaker')\n",
    "\n",
    "model_group_name = \"MNIST-group-\" + str(round(time.time()))\n",
    "model_package_group_input_dict = {\n",
    " \"ModelPackageGroupName\" : model_group_name,\n",
    " \"ModelPackageGroupDescription\" : \"MNIST digit classification model group\"\n",
    "}\n",
    "\n",
    "create_model_pacakge_group_response = sm_client.create_model_package_group(**model_package_group_input_dict)\n"
   ]
  },
  {
   "cell_type": "markdown",
   "metadata": {},
   "source": [
    "Register this model into a Model Registry under the newly created group as a new version.\n",
    "Once you registered this model, you can view it from SageMaker Resources side tab - Model Registry - model group name"
   ]
  },
  {
   "cell_type": "code",
   "execution_count": null,
   "metadata": {},
   "outputs": [],
   "source": [
    "import time\n",
    "\n",
    "model = tf_estimator.create_model(role=sagemaker_role)\n",
    "\n",
    "create_sagemaker_model_object = False\n",
    "# Optionally set create_sagemaker_model_object if you want this model to be also avail in AWS SageMaker model console\n",
    "# so we can deploy as an endpoint\n",
    "\n",
    "if create_sagemaker_model_object:\n",
    "    container_def = model.prepare_container_def(instance_type=\"ml.c5.xlarge\")\n",
    "    timestamp = time.strftime(\"-%Y-%m-%d-%H-%M\", time.gmtime())\n",
    "    model_name = f\"DIGITS-model-{timestamp}\"\n",
    "    created_model_name=sm_session.create_model(model_name, role=sagemaker_role, container_defs=container_def)\n",
    "    print(created_model_name)\n",
    "\n",
    "model.register(\n",
    "    model_package_group_name=model_group_name,\n",
    "    content_types=[\"application/json\"],\n",
    "    response_types=[\"application/json\"],\n",
    "    inference_instances=[\"ml.t2.medium\", \"ml.c5.xlarge\"],\n",
    "    transform_instances=[\"ml.c5.xlarge\"],\n",
    "    approval_status=\"Approved\",\n",
    "    description=\"Trial 1 - Epoch 10, Learning rate 0.7 Accuracy 95%\"\n",
    ")"
   ]
  },
  {
   "cell_type": "code",
   "execution_count": null,
   "metadata": {},
   "outputs": [],
   "source": [
    "model_group_name"
   ]
  },
  {
   "cell_type": "markdown",
   "metadata": {},
   "source": [
    "Run another training session to create the second model to test model versioning within our Model Registry Group"
   ]
  },
  {
   "cell_type": "code",
   "execution_count": null,
   "metadata": {},
   "outputs": [],
   "source": [
    "from sagemaker.tensorflow import TensorFlow\n",
    "\n",
    "tf_estimator = TensorFlow(\n",
    "    entry_point=\"tf-train.py\",\n",
    "    role=sagemaker_role,\n",
    "    instance_count=1,\n",
    "    instance_type=\"ml.p2.xlarge\",\n",
    "    framework_version=\"2.2\",\n",
    "    output_path=f\"{s3_folder}/output/\",\n",
    "    py_version=\"py37\")\n",
    "\n",
    "tf_estimator.fit({'train': f'{s3_folder}/dataset/train',\n",
    "                  'eval': f'{s3_folder}/dataset/eval'}, logs=\"Training\")\n",
    "\n",
    "model = tf_estimator.create_model(role=sagemaker_role)\n",
    "\n",
    "model.register(\n",
    "    model_package_group_name=model_group_name,\n",
    "    content_types=[\"application/json\"],\n",
    "    response_types=[\"application/json\"],\n",
    "    inference_instances=[\"ml.t2.medium\", \"ml.c5.xlarge\"],\n",
    "    transform_instances=[\"ml.c5.xlarge\"],\n",
    "    approval_status=\"Approved\",\n",
    "    description=\"Trial 2 - Epoch 5, Learning rate 0.3 Accuracy 91%\"\n",
    ")"
   ]
  },
  {
   "cell_type": "markdown",
   "metadata": {},
   "source": [
    "Viewing a list of model version within a group"
   ]
  },
  {
   "cell_type": "code",
   "execution_count": null,
   "metadata": {},
   "outputs": [],
   "source": [
    "import boto3\n",
    "sm_client = boto3.client('sagemaker')\n",
    "model_package_list = sm_client.list_model_packages(ModelPackageGroupName=model_group_name)\n",
    "print(model_package_list)"
   ]
  },
  {
   "cell_type": "markdown",
   "metadata": {},
   "source": [
    "Let's get the latest model details which will get us ImageUrl and model_data_url. These 2 fields are required to deploy specific model version."
   ]
  },
  {
   "cell_type": "code",
   "execution_count": null,
   "metadata": {},
   "outputs": [],
   "source": [
    "# Describe the model version details (eg: getting the ImageUri and model_data_uri) so we can deploy specific model version\n",
    "\n",
    "latest_model_package_name = model_package_list['ModelPackageSummaryList'][0]['ModelPackageArn']\n",
    "latest_model_version_details = sm_client.describe_model_package(ModelPackageName=latest_model_package_name)\n",
    "\n",
    "latest_model_image_url = latest_model_version_details['InferenceSpecification']['Containers'][0]['Image']\n",
    "latest_model_data_url = latest_model_version_details['InferenceSpecification']['Containers'][0]['ModelDataUrl']\n",
    "latest_model_version = latest_model_version_details['ModelPackageVersion']\n",
    "latest_model_package_arn = latest_model_version_details['ModelPackageArn']\n",
    "print(latest_model_version_details)\n",
    "print(f\"Model version {latest_model_version}\\nImageUrl {latest_model_image_url}\\nModelDataUrl {latest_model_version}\\nModelPackageArn {latest_model_package_arn}\")"
   ]
  },
  {
   "cell_type": "markdown",
   "metadata": {},
   "source": [
    "We are now going to deploy this latest version of the model into a new endpoint. We simply create a ModelPackage with the model_package_arn pointing to the model_package_arn of the specific model version (Note that there is a /[version] at the end of the model ARN string which indicate the version number of the model within this Model Group."
   ]
  },
  {
   "cell_type": "code",
   "execution_count": null,
   "metadata": {},
   "outputs": [],
   "source": [
    "from sagemaker import ModelPackage\n",
    "\n",
    "model = ModelPackage(role=sagemaker_role, model_package_arn=latest_model_package_name,\n",
    "                    sagemaker_session=sm_session)\n",
    "\n",
    "timestamp = time.strftime(\"-%Y-%m-%d-%H-%M\", time.gmtime())\n",
    "\n",
    "endpoint_name = f\"NEW-DIGITS-model-version-{latest_model_version}-{timestamp}\"\n",
    "print(endpoint_name)\n",
    "model.deploy(1, \"ml.c5.xlarge\", endpoint_name=endpoint_name)\n"
   ]
  },
  {
   "cell_type": "markdown",
   "metadata": {},
   "source": [
    "Lets now learn how to update an existing endpoint with the new model. This is crucial for a continuous training process to deploy a new model to existing endpoint so that we do not need to notify the endpoint clients (eg: REST API) about the endpoint name changes.\n",
    "So, we are going to update our first endpoint we created earlier with the latest version of our model"
   ]
  },
  {
   "cell_type": "code",
   "execution_count": null,
   "metadata": {},
   "outputs": [],
   "source": [
    "import time\n",
    "import boto3\n",
    "from sagemaker import Predictor\n",
    "sm_client = boto3.client('sagemaker')\n",
    "timestamp = time.strftime(\"-%Y-%m-%d-%H-%M\", time.gmtime())\n",
    "\n",
    "model_name = f'DEMO-modelregistry-model-{timestamp}'\n",
    "print(\"Model name : {}\".format(model_name))\n",
    "container_list = [{'ModelPackageName': latest_model_package_name}]\n",
    "\n",
    "create_model_response = sm_client.create_model(\n",
    "    ModelName = model_name,\n",
    "    ExecutionRoleArn = sagemaker_role_arn,\n",
    "    Containers = container_list\n",
    ")\n",
    "\n",
    "print(\"Model arn : {}\".format(create_model_response[\"ModelArn\"]))\n",
    "predictor = Predictor(first_end_point_name)\n",
    "predictor.update_endpoint(model_name=model_name, initial_instance_count=1, instance_type=\"ml.c5.xlarge\")"
   ]
  }
 ],
 "metadata": {
  "instance_type": "ml.t3.medium",
  "kernelspec": {
   "display_name": "Python 3 (TensorFlow 2.3 Python 3.7 CPU Optimized)",
   "language": "python",
   "name": "python3__SAGEMAKER_INTERNAL__arn:aws:sagemaker:ap-southeast-2:452832661640:image/tensorflow-2.3-cpu-py37-ubuntu18.04-v1"
  },
  "language_info": {
   "codemirror_mode": {
    "name": "ipython",
    "version": 3
   },
   "file_extension": ".py",
   "mimetype": "text/x-python",
   "name": "python",
   "nbconvert_exporter": "python",
   "pygments_lexer": "ipython3",
   "version": "3.7.10"
  }
 },
 "nbformat": 4,
 "nbformat_minor": 4
}
